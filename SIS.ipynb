{
 "cells": [
  {
   "cell_type": "markdown",
   "id": "139f9fcf",
   "metadata": {},
   "source": [
    "## Standards and Guidelines governing the interconnection, safety and performance of DER\n",
    "#### [IEEE std 1547](https://standards.ieee.org/ieee/1547/5915/)\n",
    "- It defines technical specifications and testing requirements for interconnection and interoperability of Distributed Energy Resources (DER) with electric power system (EPS ).\n",
    "- Defines performance, operation, testing, safety, power quality, islanding, interoperability, and communication requirements for DER.\n",
    "\n",
    "#### [IEEE Std 1453](https://standards.ieee.org/ieee/1453/10459/)\n",
    "- IEEE Recommended Practice for the Analysis of Fluctuating installations (DER) on Power Systems.\n",
    "\n"
   ]
  },
  {
   "cell_type": "markdown",
   "id": "e1b6d451",
   "metadata": {},
   "source": [
    "\n",
    "## Overall process of DER impact study\n",
    "Once a proposal of DER received from applicant, following processor is done.\n",
    "1. Data Collection: \n",
    "  - DER parameters: rated power, inverter characteristics, protection settings, fault current contribution, control modes (Volt/VAR, frequency droop, etc.).\n",
    "  -  Grid data: feeder topology, transformer details, line impedances, load data, existing DER penetration.\n",
    "\n",
    "2. System Modeling:\n",
    "  - Simulations tools: PSS®E, CYME, DIgSILENT PowerFactory, OpenDSS, PSCAD.\n",
    "  - Source modeling is done by using impedance value and is connected to dedicated BUS KV.\n",
    "  - Likewise, regulators, reclosers of appropriate ratings are modelled\n",
    "\n",
    "For references: \n",
    "<p align=\"center\">\n",
    "  <img src=\"SLD.jpg\" alt=\"Single-line diagram\" width=\"600\"><br>\n",
    "  <em>Fig. 1: SLD</em>\n",
    "</p>\n",
    "\n",
    "3. Load Allocation: is done for realistic load flow modeling\n",
    " - Meter data is mapped to feeder buses and loads are divided based on kVA demand and distributed across connected nodes.\n",
    " - Both on and off- peak data is selected for the worst case scenarios.Outliers should be avoided for analysis.\n",
    " - If there are already existing projects, that should also be considered while allocating the Load data. \n",
    " - Before running, check all the modeling, operating voltages and scenarios are correct.\n",
    "\n",
    "<p align=\"center\">\n",
    "  <img src=\"Load_Data.png\" alt=\"Meter Data\" width=\"600\"><br>\n",
    "  <em>Fig. 1: Meter Data</em>\n",
    "</p>\n",
    "\n",
    "4. Project Modeling\n",
    " - Respective DER (solar, wind, etc) with respective size or power rating should be modelled.\n",
    " - If it is connected through riser, it should also be modelled properly as \"Under Ground\"\n",
    " - Inverter, Grounding transformer, GSU transformer, Capacitor bank etc should also be modelled.\n",
    "\n",
    "\n",
    "\n"
   ]
  },
  {
   "cell_type": "markdown",
   "id": "2ae71a9f",
   "metadata": {},
   "source": [
    "## System Analysis\n",
    "Once the model is ready, different studies are carried out:\n",
    "\n",
    "1. Load Flow Analysis\n",
    "  - Under/over voltage after the injection of DER is observed.\n",
    "  - Thermal analysis and requirements of line upgrade is studied.\n",
    "  - Equipment loading is analyzed\n",
    "\n",
    "2. Short-Circuit & Protection Studies\n",
    " - Fault current contribution of DER\n",
    " - Relay/fuse coordination\n",
    " - Anti-islanding performance\n",
    "\n"
   ]
  },
  {
   "cell_type": "markdown",
   "id": "1bf73c47",
   "metadata": {},
   "source": [
    "## Mitigation\n",
    "\n",
    "<p align=\"center\">\n",
    "  <img src=\"Circuit.png\" alt=\"Circuit\" width=\"600\"><br>\n",
    "  <em>Fig. 1:Single line diagram to show Voltage drop</em>\n",
    "</p>\n",
    "\n",
    "from figure we can illustrate the following:\n",
    "\n",
    "$$ \n",
    "\\Delta V = V_s - V_R \\approx \\frac{P \\times R + Q \\times X}{V_s}\n",
    "= \\frac{(P_L - P_G)R + (Q_L - Q_G)X}{V_s}\n",
    "$$\n",
    "\n",
    "- The equation describes that when generation is high and demand is less, change in voltage ΔV becomes negative. Hence at DER terminal voltage rises. \n",
    "\n",
    "- DER tries to reduce the issues by absorbing the reactive power that means under power factor control mode. So that it can absorbs or inject reactibve power. But as shown in below equation, for the same KVA, the action of abosorbtion become limited as active power reduced in a bigger amount\n",
    "$$\n",
    "P^2 + Q^2 = S^2\n",
    "$$\n",
    "\n",
    "\n",
    "\n",
    "Hence, following mitigations methods are used.\n",
    "1. Reconductoring \n",
    "  - Upgrading conductor to higher sizes immediately results out the lower voltages at Point of Common Coupling but this is the expensive way of mitigating the Overvoltage.\n",
    "  - This method also helps with voltage flicker.\n",
    "  "
   ]
  },
  {
   "cell_type": "code",
   "execution_count": null,
   "id": "23a4f556",
   "metadata": {},
   "outputs": [],
   "source": []
  },
  {
   "cell_type": "markdown",
   "id": "c4a631e5",
   "metadata": {},
   "source": []
  },
  {
   "cell_type": "markdown",
   "id": "a6406110",
   "metadata": {},
   "source": []
  },
  {
   "cell_type": "code",
   "execution_count": null,
   "id": "04c1b242",
   "metadata": {},
   "outputs": [],
   "source": []
  }
 ],
 "metadata": {
  "language_info": {
   "name": "python"
  }
 },
 "nbformat": 4,
 "nbformat_minor": 5
}
